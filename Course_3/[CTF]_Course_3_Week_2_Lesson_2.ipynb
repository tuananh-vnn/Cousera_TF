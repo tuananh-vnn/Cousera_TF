{
  "nbformat": 4,
  "nbformat_minor": 0,
  "metadata": {
    "accelerator": "GPU",
    "colab": {
      "name": "[CTF] Course 3 - Week 2 - Lesson 2.ipynb",
      "provenance": [],
      "collapsed_sections": [],
      "toc_visible": true,
      "include_colab_link": true
    },
    "kernelspec": {
      "display_name": "Python 3",
      "name": "python3"
    }
  },
  "cells": [
    {
      "cell_type": "markdown",
      "metadata": {
        "id": "view-in-github",
        "colab_type": "text"
      },
      "source": [
        "<a href=\"https://colab.research.google.com/github/tuananh-vnn/Cousera_TF/blob/main/Course_3/%5BCTF%5D_Course_3_Week_2_Lesson_2.ipynb\" target=\"_parent\"><img src=\"https://colab.research.google.com/assets/colab-badge.svg\" alt=\"Open In Colab\"/></a>"
      ]
    },
    {
      "cell_type": "code",
      "metadata": {
        "id": "zX4Kg8DUTKWO"
      },
      "source": [
        "#@title Licensed under the Apache License, Version 2.0 (the \"License\");\n",
        "# you may not use this file except in compliance with the License.\n",
        "# You may obtain a copy of the License at\n",
        "#\n",
        "# https://www.apache.org/licenses/LICENSE-2.0\n",
        "#\n",
        "# Unless required by applicable law or agreed to in writing, software\n",
        "# distributed under the License is distributed on an \"AS IS\" BASIS,\n",
        "# WITHOUT WARRANTIES OR CONDITIONS OF ANY KIND, either express or implied.\n",
        "# See the License for the specific language governing permissions and\n",
        "# limitations under the License."
      ],
      "execution_count": null,
      "outputs": []
    },
    {
      "cell_type": "markdown",
      "metadata": {
        "id": "view-in-github"
      },
      "source": [
        "<a href=\"https://colab.research.google.com/github/lmoroney/dlaicourse/blob/master/TensorFlow%20In%20Practice/Course%203%20-%20NLP/Course%203%20-%20Week%202%20-%20Lesson%202.ipynb\" target=\"_parent\"><img src=\"https://colab.research.google.com/assets/colab-badge.svg\" alt=\"Open In Colab\"/></a>"
      ]
    },
    {
      "cell_type": "code",
      "metadata": {
        "id": "4gs9htvM7n_x"
      },
      "source": [
        "# Run this to ensure TensorFlow 2.x is used\n",
        "try:\n",
        "  # %tensorflow_version only exists in Colab.\n",
        "  %tensorflow_version 2.x\n",
        "except Exception:\n",
        "  pass"
      ],
      "execution_count": null,
      "outputs": []
    },
    {
      "cell_type": "code",
      "metadata": {
        "id": "XYYDvoskkE61"
      },
      "source": [
        "import json\n",
        "import tensorflow as tf\n",
        "\n",
        "from tensorflow.keras.preprocessing.text import Tokenizer\n",
        "from tensorflow.keras.preprocessing.sequence import pad_sequences"
      ],
      "execution_count": null,
      "outputs": []
    },
    {
      "cell_type": "code",
      "metadata": {
        "id": "0eJSTTYnkJQd"
      },
      "source": [
        "vocab_size = 10000\n",
        "embedding_dim = 16\n",
        "max_length = 100\n",
        "trunc_type='post'\n",
        "padding_type='post'\n",
        "oov_tok = \"<OOV>\"\n",
        "training_size = 20000\n"
      ],
      "execution_count": null,
      "outputs": []
    },
    {
      "cell_type": "code",
      "metadata": {
        "colab": {
          "base_uri": "https://localhost:8080/"
        },
        "id": "BQVuQrZNkPn9",
        "outputId": "dbc67408-c806-4676-ef54-2fde70102cdd"
      },
      "source": [
        "!wget --no-check-certificate \\\n",
        "    https://storage.googleapis.com/laurencemoroney-blog.appspot.com/sarcasm.json \\\n",
        "    -O /tmp/sarcasm.json\n"
      ],
      "execution_count": null,
      "outputs": [
        {
          "output_type": "stream",
          "text": [
            "--2021-01-11 06:55:08--  https://storage.googleapis.com/laurencemoroney-blog.appspot.com/sarcasm.json\n",
            "Resolving storage.googleapis.com (storage.googleapis.com)... 172.217.7.144, 172.217.7.176, 172.253.62.128, ...\n",
            "Connecting to storage.googleapis.com (storage.googleapis.com)|172.217.7.144|:443... connected.\n",
            "HTTP request sent, awaiting response... 200 OK\n",
            "Length: 5643545 (5.4M) [application/json]\n",
            "Saving to: ‘/tmp/sarcasm.json’\n",
            "\n",
            "\r/tmp/sarcasm.json     0%[                    ]       0  --.-KB/s               \r/tmp/sarcasm.json   100%[===================>]   5.38M  --.-KB/s    in 0.02s   \n",
            "\n",
            "2021-01-11 06:55:09 (226 MB/s) - ‘/tmp/sarcasm.json’ saved [5643545/5643545]\n",
            "\n"
          ],
          "name": "stdout"
        }
      ]
    },
    {
      "cell_type": "code",
      "metadata": {
        "id": "oaLaaqhNkUPd"
      },
      "source": [
        "with open(\"/tmp/sarcasm.json\", 'r') as f:\n",
        "    datastore = json.load(f)\n",
        "\n",
        "sentences = []\n",
        "labels = []\n",
        "\n",
        "for item in datastore:\n",
        "    sentences.append(item['headline'])\n",
        "    labels.append(item['is_sarcastic'])"
      ],
      "execution_count": null,
      "outputs": []
    },
    {
      "cell_type": "code",
      "metadata": {
        "id": "S1sD-7v0kYWk"
      },
      "source": [
        "training_sentences = sentences[0:training_size]\n",
        "testing_sentences = sentences[training_size:]\n",
        "training_labels = labels[0:training_size]\n",
        "testing_labels = labels[training_size:]"
      ],
      "execution_count": null,
      "outputs": []
    },
    {
      "cell_type": "code",
      "metadata": {
        "id": "3u8UB0MCkZ5N"
      },
      "source": [
        "tokenizer = Tokenizer(num_words=vocab_size, oov_token=oov_tok)\n",
        "tokenizer.fit_on_texts(training_sentences)\n",
        "\n",
        "word_index = tokenizer.word_index\n",
        "\n",
        "training_sequences = tokenizer.texts_to_sequences(training_sentences)\n",
        "training_padded = pad_sequences(training_sequences, maxlen=max_length, padding=padding_type, truncating=trunc_type)\n",
        "\n",
        "testing_sequences = tokenizer.texts_to_sequences(testing_sentences)\n",
        "testing_padded = pad_sequences(testing_sequences, maxlen=max_length, padding=padding_type, truncating=trunc_type)"
      ],
      "execution_count": null,
      "outputs": []
    },
    {
      "cell_type": "code",
      "metadata": {
        "id": "GrAlWBKf99Ya"
      },
      "source": [
        "# Need this block to get it to work with TensorFlow 2.x\n",
        "import numpy as np\n",
        "training_padded = np.array(training_padded)\n",
        "training_labels = np.array(training_labels)\n",
        "testing_padded = np.array(testing_padded)\n",
        "testing_labels = np.array(testing_labels)"
      ],
      "execution_count": null,
      "outputs": []
    },
    {
      "cell_type": "code",
      "metadata": {
        "id": "FufaT4vlkiDE"
      },
      "source": [
        "model = tf.keras.Sequential([\n",
        "    tf.keras.layers.Embedding(vocab_size, embedding_dim, input_length=max_length),\n",
        "    tf.keras.layers.GlobalAveragePooling1D(),\n",
        "    tf.keras.layers.Dense(24, activation='relu'),\n",
        "    tf.keras.layers.Dense(1, activation='sigmoid')\n",
        "])\n",
        "model.compile(loss='binary_crossentropy',optimizer='adam',metrics=['accuracy'])"
      ],
      "execution_count": null,
      "outputs": []
    },
    {
      "cell_type": "code",
      "metadata": {
        "colab": {
          "base_uri": "https://localhost:8080/"
        },
        "id": "XfDt1hmYkiys",
        "outputId": "b6536460-fd55-47c3-cc94-c7bac27d318b"
      },
      "source": [
        "model.summary()\n"
      ],
      "execution_count": null,
      "outputs": [
        {
          "output_type": "stream",
          "text": [
            "Model: \"sequential\"\n",
            "_________________________________________________________________\n",
            "Layer (type)                 Output Shape              Param #   \n",
            "=================================================================\n",
            "embedding (Embedding)        (None, 100, 16)           160000    \n",
            "_________________________________________________________________\n",
            "global_average_pooling1d (Gl (None, 16)                0         \n",
            "_________________________________________________________________\n",
            "dense (Dense)                (None, 24)                408       \n",
            "_________________________________________________________________\n",
            "dense_1 (Dense)              (None, 1)                 25        \n",
            "=================================================================\n",
            "Total params: 160,433\n",
            "Trainable params: 160,433\n",
            "Non-trainable params: 0\n",
            "_________________________________________________________________\n"
          ],
          "name": "stdout"
        }
      ]
    },
    {
      "cell_type": "code",
      "metadata": {
        "colab": {
          "base_uri": "https://localhost:8080/"
        },
        "id": "2DTKQFf1kkyc",
        "outputId": "25ff874d-6d40-457d-d796-3755668f449b"
      },
      "source": [
        "num_epochs = 30\n",
        "history = model.fit(training_padded, training_labels, epochs=num_epochs, validation_data=(testing_padded, testing_labels), verbose=2)"
      ],
      "execution_count": null,
      "outputs": [
        {
          "output_type": "stream",
          "text": [
            "Epoch 1/30\n",
            "625/625 - 5s - loss: 0.6721 - accuracy: 0.5705 - val_loss: 0.6057 - val_accuracy: 0.7746\n",
            "Epoch 2/30\n",
            "625/625 - 2s - loss: 0.4402 - accuracy: 0.8252 - val_loss: 0.3842 - val_accuracy: 0.8414\n",
            "Epoch 3/30\n",
            "625/625 - 2s - loss: 0.3105 - accuracy: 0.8777 - val_loss: 0.3527 - val_accuracy: 0.8520\n",
            "Epoch 4/30\n",
            "625/625 - 2s - loss: 0.2596 - accuracy: 0.8989 - val_loss: 0.3680 - val_accuracy: 0.8348\n",
            "Epoch 5/30\n",
            "625/625 - 2s - loss: 0.2248 - accuracy: 0.9133 - val_loss: 0.3468 - val_accuracy: 0.8515\n",
            "Epoch 6/30\n",
            "625/625 - 2s - loss: 0.1973 - accuracy: 0.9256 - val_loss: 0.3526 - val_accuracy: 0.8539\n",
            "Epoch 7/30\n",
            "625/625 - 2s - loss: 0.1747 - accuracy: 0.9343 - val_loss: 0.3682 - val_accuracy: 0.8515\n",
            "Epoch 8/30\n",
            "625/625 - 2s - loss: 0.1561 - accuracy: 0.9425 - val_loss: 0.3783 - val_accuracy: 0.8527\n",
            "Epoch 9/30\n",
            "625/625 - 2s - loss: 0.1407 - accuracy: 0.9503 - val_loss: 0.3953 - val_accuracy: 0.8532\n",
            "Epoch 10/30\n",
            "625/625 - 2s - loss: 0.1287 - accuracy: 0.9531 - val_loss: 0.4165 - val_accuracy: 0.8487\n",
            "Epoch 11/30\n",
            "625/625 - 2s - loss: 0.1156 - accuracy: 0.9593 - val_loss: 0.4384 - val_accuracy: 0.8481\n",
            "Epoch 12/30\n",
            "625/625 - 2s - loss: 0.1066 - accuracy: 0.9635 - val_loss: 0.4690 - val_accuracy: 0.8404\n",
            "Epoch 13/30\n",
            "625/625 - 2s - loss: 0.0964 - accuracy: 0.9687 - val_loss: 0.5114 - val_accuracy: 0.8363\n",
            "Epoch 14/30\n",
            "625/625 - 2s - loss: 0.0879 - accuracy: 0.9718 - val_loss: 0.5202 - val_accuracy: 0.8392\n",
            "Epoch 15/30\n",
            "625/625 - 2s - loss: 0.0818 - accuracy: 0.9726 - val_loss: 0.5509 - val_accuracy: 0.8351\n",
            "Epoch 16/30\n",
            "625/625 - 2s - loss: 0.0738 - accuracy: 0.9765 - val_loss: 0.5840 - val_accuracy: 0.8335\n",
            "Epoch 17/30\n",
            "625/625 - 2s - loss: 0.0692 - accuracy: 0.9783 - val_loss: 0.6434 - val_accuracy: 0.8304\n",
            "Epoch 18/30\n",
            "625/625 - 2s - loss: 0.0632 - accuracy: 0.9800 - val_loss: 0.6580 - val_accuracy: 0.8289\n",
            "Epoch 19/30\n",
            "625/625 - 2s - loss: 0.0569 - accuracy: 0.9814 - val_loss: 0.6811 - val_accuracy: 0.8299\n",
            "Epoch 20/30\n",
            "625/625 - 2s - loss: 0.0527 - accuracy: 0.9846 - val_loss: 0.7510 - val_accuracy: 0.8240\n",
            "Epoch 21/30\n",
            "625/625 - 2s - loss: 0.0495 - accuracy: 0.9851 - val_loss: 0.7706 - val_accuracy: 0.8255\n",
            "Epoch 22/30\n",
            "625/625 - 2s - loss: 0.0456 - accuracy: 0.9858 - val_loss: 0.7936 - val_accuracy: 0.8253\n",
            "Epoch 23/30\n",
            "625/625 - 2s - loss: 0.0424 - accuracy: 0.9879 - val_loss: 0.8175 - val_accuracy: 0.8229\n",
            "Epoch 24/30\n",
            "625/625 - 2s - loss: 0.0384 - accuracy: 0.9878 - val_loss: 0.8614 - val_accuracy: 0.8241\n",
            "Epoch 25/30\n",
            "625/625 - 2s - loss: 0.0357 - accuracy: 0.9887 - val_loss: 0.9919 - val_accuracy: 0.8135\n",
            "Epoch 26/30\n",
            "625/625 - 2s - loss: 0.0314 - accuracy: 0.9915 - val_loss: 0.9373 - val_accuracy: 0.8196\n",
            "Epoch 27/30\n",
            "625/625 - 2s - loss: 0.0304 - accuracy: 0.9913 - val_loss: 1.0203 - val_accuracy: 0.8162\n",
            "Epoch 28/30\n",
            "625/625 - 2s - loss: 0.0276 - accuracy: 0.9924 - val_loss: 1.0108 - val_accuracy: 0.8173\n",
            "Epoch 29/30\n",
            "625/625 - 2s - loss: 0.0259 - accuracy: 0.9923 - val_loss: 1.0419 - val_accuracy: 0.8153\n",
            "Epoch 30/30\n",
            "625/625 - 2s - loss: 0.0240 - accuracy: 0.9931 - val_loss: 1.1464 - val_accuracy: 0.8132\n"
          ],
          "name": "stdout"
        }
      ]
    },
    {
      "cell_type": "code",
      "metadata": {
        "colab": {
          "base_uri": "https://localhost:8080/",
          "height": 545
        },
        "id": "2HYfBKXjkmU8",
        "outputId": "d141376d-4501-4bf2-9a4f-9da973f1870e"
      },
      "source": [
        "import matplotlib.pyplot as plt\n",
        "\n",
        "\n",
        "def plot_graphs(history, string):\n",
        "  plt.plot(history.history[string])\n",
        "  plt.plot(history.history['val_'+string])\n",
        "  plt.xlabel(\"Epochs\")\n",
        "  plt.ylabel(string)\n",
        "  plt.legend([string, 'val_'+string])\n",
        "  plt.show()\n",
        "  \n",
        "plot_graphs(history, \"accuracy\")\n",
        "plot_graphs(history, \"loss\")"
      ],
      "execution_count": null,
      "outputs": [
        {
          "output_type": "display_data",
          "data": {
            "image/png": "[encoded data removed]",
            "text/plain": [
              "<Figure size 432x288 with 1 Axes>"
            ]
          },
          "metadata": {
            "tags": [],
            "needs_background": "light"
          }
        },
        {
          "output_type": "display_data",
          "data": {
            "image/png": "[encoded data removed]",
            "text/plain": [
              "<Figure size 432x288 with 1 Axes>"
            ]
          },
          "metadata": {
            "tags": [],
            "needs_background": "light"
          }
        }
      ]
    },
    {
      "cell_type": "code",
      "metadata": {
        "id": "7SBdAZAenvzL"
      },
      "source": [
        "reverse_word_index = dict([(value, key) for (key, value) in word_index.items()])\n",
        "\n",
        "def decode_sentence(text):\n",
        "    return ' '.join([reverse_word_index.get(i, '?') for i in text])\n",
        "\n",
        "print(decode_sentence(training_padded[0]))\n",
        "print(training_sentences[2])\n",
        "print(labels[2])"
      ],
      "execution_count": null,
      "outputs": []
    },
    {
      "cell_type": "code",
      "metadata": {
        "id": "c9MqihtEkzQ9"
      },
      "source": [
        "e = model.layers[0]\n",
        "weights = e.get_weights()[0]\n",
        "print(weights.shape) # shape: (vocab_size, embedding_dim)\n"
      ],
      "execution_count": null,
      "outputs": []
    },
    {
      "cell_type": "code",
      "metadata": {
        "id": "LoBXVffknldU"
      },
      "source": [
        "import io\n",
        "\n",
        "out_v = io.open('vecs.tsv', 'w', encoding='utf-8')\n",
        "out_m = io.open('meta.tsv', 'w', encoding='utf-8')\n",
        "for word_num in range(1, vocab_size):\n",
        "  word = reverse_word_index[word_num]\n",
        "  embeddings = weights[word_num]\n",
        "  out_m.write(word + \"\\n\")\n",
        "  out_v.write('\\t'.join([str(x) for x in embeddings]) + \"\\n\")\n",
        "out_v.close()\n",
        "out_m.close()"
      ],
      "execution_count": null,
      "outputs": []
    },
    {
      "cell_type": "code",
      "metadata": {
        "id": "U4eZ5HtVnnEE"
      },
      "source": [
        "try:\n",
        "  from google.colab import files\n",
        "except ImportError:\n",
        "  pass\n",
        "else:\n",
        "  files.download('vecs.tsv')\n",
        "  files.download('meta.tsv')"
      ],
      "execution_count": null,
      "outputs": []
    },
    {
      "cell_type": "code",
      "metadata": {
        "id": "cG8-ArY-qDcz"
      },
      "source": [
        "sentence = [\"granny starting to fear spiders in the garden might be real\", \"game of thrones season finale showing this sunday night\"]\n",
        "sequences = tokenizer.texts_to_sequences(sentence)\n",
        "padded = pad_sequences(sequences, maxlen=max_length, padding=padding_type, truncating=trunc_type)\n",
        "print(model.predict(padded))"
      ],
      "execution_count": null,
      "outputs": []
    }
  ]
}