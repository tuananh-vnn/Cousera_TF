{
  "nbformat": 4,
  "nbformat_minor": 0,
  "metadata": {
    "accelerator": "GPU",
    "colab": {
      "name": "[Coursera_TF] Course 2 - Part 4 - Lesson 4 - Notebook.ipynb",
      "provenance": [],
      "collapsed_sections": [],
      "toc_visible": true,
      "include_colab_link": true
    },
    "kernelspec": {
      "display_name": "Python 3",
      "name": "python3"
    }
  },
  "cells": [
    {
      "cell_type": "markdown",
      "metadata": {
        "id": "view-in-github",
        "colab_type": "text"
      },
      "source": [
        "<a href=\"https://colab.research.google.com/github/tuananh-vnn/Cousera_TF/blob/main/Course_2/%5BCoursera_TF%5D_Course_2_Part_4_Lesson_4_Notebook.ipynb\" target=\"_parent\"><img src=\"https://colab.research.google.com/assets/colab-badge.svg\" alt=\"Open In Colab\"/></a>"
      ]
    },
    {
      "cell_type": "markdown",
      "metadata": {
        "id": "rX8mhOLljYeM"
      },
      "source": [
        "##### Copyright 2019 The TensorFlow Authors."
      ]
    },
    {
      "cell_type": "code",
      "metadata": {
        "cellView": "form",
        "id": "BZSlp3DAjdYf"
      },
      "source": [
        "#@title Licensed under the Apache License, Version 2.0 (the \"License\");\n",
        "# you may not use this file except in compliance with the License.\n",
        "# You may obtain a copy of the License at\n",
        "#\n",
        "# https://www.apache.org/licenses/LICENSE-2.0\n",
        "#\n",
        "# Unless required by applicable law or agreed to in writing, software\n",
        "# distributed under the License is distributed on an \"AS IS\" BASIS,\n",
        "# WITHOUT WARRANTIES OR CONDITIONS OF ANY KIND, either express or implied.\n",
        "# See the License for the specific language governing permissions and\n",
        "# limitations under the License."
      ],
      "execution_count": null,
      "outputs": []
    },
    {
      "cell_type": "code",
      "metadata": {
        "colab": {
          "base_uri": "https://localhost:8080/"
        },
        "id": "RXZT2UsyIVe_",
        "outputId": "27efa737-ff62-4c8b-d466-67ad39ca851c"
      },
      "source": [
        "!wget --no-check-certificate \\\n",
        "    https://storage.googleapis.com/laurencemoroney-blog.appspot.com/horse-or-human.zip \\\n",
        "    -O /tmp/horse-or-human.zip\n",
        "\n",
        "!wget --no-check-certificate \\\n",
        "    https://storage.googleapis.com/laurencemoroney-blog.appspot.com/validation-horse-or-human.zip \\\n",
        "    -O /tmp/validation-horse-or-human.zip\n",
        "  \n",
        "import os\n",
        "import zipfile\n",
        "\n",
        "local_zip = '/tmp/horse-or-human.zip'\n",
        "zip_ref = zipfile.ZipFile(local_zip, 'r')\n",
        "zip_ref.extractall('/tmp/horse-or-human')\n",
        "local_zip = '/tmp/validation-horse-or-human.zip'\n",
        "zip_ref = zipfile.ZipFile(local_zip, 'r')\n",
        "zip_ref.extractall('/tmp/validation-horse-or-human')\n",
        "zip_ref.close()\n",
        "# Directory with our training horse pictures\n",
        "train_horse_dir = os.path.join('/tmp/horse-or-human/horses')\n",
        "\n",
        "# Directory with our training human pictures\n",
        "train_human_dir = os.path.join('/tmp/horse-or-human/humans')\n",
        "\n",
        "# Directory with our training horse pictures\n",
        "validation_horse_dir = os.path.join('/tmp/validation-horse-or-human/horses')\n",
        "\n",
        "# Directory with our training human pictures\n",
        "validation_human_dir = os.path.join('/tmp/validation-horse-or-human/humans')"
      ],
      "execution_count": null,
      "outputs": [
        {
          "output_type": "stream",
          "text": [
            "--2021-01-06 08:59:57--  https://storage.googleapis.com/laurencemoroney-blog.appspot.com/horse-or-human.zip\n",
            "Resolving storage.googleapis.com (storage.googleapis.com)... 172.217.15.80, 172.217.5.240, 172.217.2.112, ...\n",
            "Connecting to storage.googleapis.com (storage.googleapis.com)|172.217.15.80|:443... connected.\n",
            "HTTP request sent, awaiting response... 200 OK\n",
            "Length: 149574867 (143M) [application/zip]\n",
            "Saving to: ‘/tmp/horse-or-human.zip’\n",
            "\n",
            "/tmp/horse-or-human 100%[===================>] 142.65M   210MB/s    in 0.7s    \n",
            "\n",
            "2021-01-06 08:59:57 (210 MB/s) - ‘/tmp/horse-or-human.zip’ saved [149574867/149574867]\n",
            "\n",
            "--2021-01-06 08:59:57--  https://storage.googleapis.com/laurencemoroney-blog.appspot.com/validation-horse-or-human.zip\n",
            "Resolving storage.googleapis.com (storage.googleapis.com)... 142.250.73.208, 172.253.63.128, 142.250.31.128, ...\n",
            "Connecting to storage.googleapis.com (storage.googleapis.com)|142.250.73.208|:443... connected.\n",
            "HTTP request sent, awaiting response... 200 OK\n",
            "Length: 11480187 (11M) [application/zip]\n",
            "Saving to: ‘/tmp/validation-horse-or-human.zip’\n",
            "\n",
            "/tmp/validation-hor 100%[===================>]  10.95M  --.-KB/s    in 0.1s    \n",
            "\n",
            "2021-01-06 08:59:58 (96.2 MB/s) - ‘/tmp/validation-horse-or-human.zip’ saved [11480187/11480187]\n",
            "\n"
          ],
          "name": "stdout"
        }
      ]
    },
    {
      "cell_type": "markdown",
      "metadata": {
        "id": "5oqBkNBJmtUv"
      },
      "source": [
        "## Building a Small Model from Scratch\n",
        "\n",
        "But before we continue, let's start defining the model:\n",
        "\n",
        "Step 1 will be to import tensorflow."
      ]
    },
    {
      "cell_type": "code",
      "metadata": {
        "id": "qvfZg3LQbD-5"
      },
      "source": [
        "import tensorflow as tf"
      ],
      "execution_count": null,
      "outputs": []
    },
    {
      "cell_type": "markdown",
      "metadata": {
        "id": "BnhYCP4tdqjC"
      },
      "source": [
        "We then add convolutional layers as in the previous example, and flatten the final result to feed into the densely connected layers."
      ]
    },
    {
      "cell_type": "markdown",
      "metadata": {
        "id": "gokG5HKpdtzm"
      },
      "source": [
        "Finally we add the densely connected layers. \n",
        "\n",
        "Note that because we are facing a two-class classification problem, i.e. a *binary classification problem*, we will end our network with a [*sigmoid* activation](https://wikipedia.org/wiki/Sigmoid_function), so that the output of our network will be a single scalar between 0 and 1, encoding the probability that the current image is class 1 (as opposed to class 0)."
      ]
    },
    {
      "cell_type": "code",
      "metadata": {
        "id": "PixZ2s5QbYQ3"
      },
      "source": [
        "model = tf.keras.models.Sequential([\n",
        "    # Note the input shape is the desired size of the image 300x300 with 3 bytes color\n",
        "    # This is the first convolution\n",
        "    tf.keras.layers.Conv2D(16, (3,3), activation='relu', input_shape=(300, 300, 3)),\n",
        "    tf.keras.layers.MaxPooling2D(2, 2),\n",
        "    # The second convolution\n",
        "    tf.keras.layers.Conv2D(32, (3,3), activation='relu'),\n",
        "    tf.keras.layers.MaxPooling2D(2,2),\n",
        "    # The third convolution\n",
        "    tf.keras.layers.Conv2D(64, (3,3), activation='relu'),\n",
        "    tf.keras.layers.MaxPooling2D(2,2),\n",
        "    # The fourth convolution\n",
        "    tf.keras.layers.Conv2D(64, (3,3), activation='relu'),\n",
        "    tf.keras.layers.MaxPooling2D(2,2),\n",
        "    # The fifth convolution\n",
        "    tf.keras.layers.Conv2D(64, (3,3), activation='relu'),\n",
        "    tf.keras.layers.MaxPooling2D(2,2),\n",
        "    # Flatten the results to feed into a DNN\n",
        "    tf.keras.layers.Flatten(),\n",
        "    # 512 neuron hidden layer\n",
        "    tf.keras.layers.Dense(512, activation='relu'),\n",
        "    # Only 1 output neuron. It will contain a value from 0-1 where 0 for 1 class ('horses') and 1 for the other ('humans')\n",
        "    tf.keras.layers.Dense(1, activation='sigmoid')\n",
        "])"
      ],
      "execution_count": null,
      "outputs": []
    },
    {
      "cell_type": "code",
      "metadata": {
        "id": "8DHWhFP_uhq3"
      },
      "source": [
        "from tensorflow.keras.optimizers import RMSprop\n",
        "\n",
        "model.compile(loss='binary_crossentropy',\n",
        "              optimizer=RMSprop(lr=1e-4),\n",
        "              metrics=['accuracy'])"
      ],
      "execution_count": null,
      "outputs": []
    },
    {
      "cell_type": "code",
      "metadata": {
        "colab": {
          "base_uri": "https://localhost:8080/"
        },
        "id": "ClebU9NJg99G",
        "outputId": "48a85c6e-b7ac-4709-80a3-1473f6e4ab16"
      },
      "source": [
        "from tensorflow.keras.preprocessing.image import ImageDataGenerator\n",
        "\n",
        "# All images will be rescaled by 1./255\n",
        "train_datagen = ImageDataGenerator(\n",
        "      rescale=1./255,\n",
        "      rotation_range=90,\n",
        "      width_shift_range=0.2,\n",
        "      height_shift_range=0.2,\n",
        "      shear_range=0.2,\n",
        "      zoom_range=0.2,\n",
        "      horizontal_flip=True,\n",
        "      fill_mode='nearest')\n",
        "\n",
        "validation_datagen = ImageDataGenerator(rescale=1/255)\n",
        "\n",
        "# Flow training images in batches of 128 using train_datagen generator\n",
        "train_generator = train_datagen.flow_from_directory(\n",
        "        '/tmp/horse-or-human/',  # This is the source directory for training images\n",
        "        target_size=(300, 300),  # All images will be resized to 150x150\n",
        "        batch_size=128,\n",
        "        # Since we use binary_crossentropy loss, we need binary labels\n",
        "        class_mode='binary')\n",
        "\n",
        "# Flow training images in batches of 128 using train_datagen generator\n",
        "validation_generator = validation_datagen.flow_from_directory(\n",
        "        '/tmp/validation-horse-or-human/',  # This is the source directory for training images\n",
        "        target_size=(300, 300),  # All images will be resized to 150x150\n",
        "        batch_size=32,\n",
        "        # Since we use binary_crossentropy loss, we need binary labels\n",
        "        class_mode='binary')"
      ],
      "execution_count": null,
      "outputs": [
        {
          "output_type": "stream",
          "text": [
            "Found 1027 images belonging to 2 classes.\n",
            "Found 256 images belonging to 2 classes.\n"
          ],
          "name": "stdout"
        }
      ]
    },
    {
      "cell_type": "code",
      "metadata": {
        "colab": {
          "base_uri": "https://localhost:8080/"
        },
        "id": "Fb1_lgobv81m",
        "outputId": "8077740e-5b00-490a-dac0-24f14dcd8100"
      },
      "source": [
        "history = model.fit(\n",
        "      train_generator,\n",
        "      steps_per_epoch=8,  \n",
        "      epochs=100,\n",
        "      verbose=1,\n",
        "      validation_data = validation_generator,\n",
        "      validation_steps=8)"
      ],
      "execution_count": null,
      "outputs": [
        {
          "output_type": "stream",
          "text": [
            "Epoch 1/100\n",
            "8/8 [==============================] - 27s 2s/step - loss: 0.6914 - accuracy: 0.5560 - val_loss: 0.6679 - val_accuracy: 0.5000\n",
            "Epoch 2/100\n",
            "8/8 [==============================] - 24s 3s/step - loss: 0.6818 - accuracy: 0.5573 - val_loss: 0.6446 - val_accuracy: 0.6289\n",
            "Epoch 3/100\n",
            "8/8 [==============================] - 22s 3s/step - loss: 0.6504 - accuracy: 0.6830 - val_loss: 0.6527 - val_accuracy: 0.5195\n",
            "Epoch 4/100\n",
            "8/8 [==============================] - 21s 3s/step - loss: 0.6375 - accuracy: 0.7018 - val_loss: 0.6219 - val_accuracy: 0.6016\n",
            "Epoch 5/100\n",
            "8/8 [==============================] - 21s 3s/step - loss: 0.5992 - accuracy: 0.7180 - val_loss: 0.7611 - val_accuracy: 0.5000\n",
            "Epoch 6/100\n",
            "8/8 [==============================] - 24s 3s/step - loss: 0.5732 - accuracy: 0.7365 - val_loss: 0.7186 - val_accuracy: 0.5195\n",
            "Epoch 7/100\n",
            "8/8 [==============================] - 24s 3s/step - loss: 0.5599 - accuracy: 0.7340 - val_loss: 0.6380 - val_accuracy: 0.5703\n",
            "Epoch 8/100\n",
            "8/8 [==============================] - 21s 3s/step - loss: 0.5767 - accuracy: 0.7327 - val_loss: 0.6822 - val_accuracy: 0.5312\n",
            "Epoch 9/100\n",
            "8/8 [==============================] - 21s 3s/step - loss: 0.5273 - accuracy: 0.7411 - val_loss: 0.5830 - val_accuracy: 0.6367\n",
            "Epoch 10/100\n",
            "8/8 [==============================] - 21s 3s/step - loss: 0.5230 - accuracy: 0.7421 - val_loss: 0.4020 - val_accuracy: 0.8438\n",
            "Epoch 11/100\n",
            "8/8 [==============================] - 21s 3s/step - loss: 0.5449 - accuracy: 0.7317 - val_loss: 0.7030 - val_accuracy: 0.5820\n",
            "Epoch 12/100\n",
            "8/8 [==============================] - 21s 3s/step - loss: 0.4757 - accuracy: 0.7914 - val_loss: 0.6316 - val_accuracy: 0.6484\n",
            "Epoch 13/100\n",
            "8/8 [==============================] - 22s 3s/step - loss: 0.5286 - accuracy: 0.7651 - val_loss: 0.8578 - val_accuracy: 0.5625\n",
            "Epoch 14/100\n",
            "8/8 [==============================] - 22s 3s/step - loss: 0.4591 - accuracy: 0.7624 - val_loss: 0.9365 - val_accuracy: 0.5469\n",
            "Epoch 15/100\n",
            "8/8 [==============================] - 22s 3s/step - loss: 0.4955 - accuracy: 0.7647 - val_loss: 0.9954 - val_accuracy: 0.5547\n",
            "Epoch 16/100\n",
            "8/8 [==============================] - 21s 3s/step - loss: 0.4230 - accuracy: 0.8070 - val_loss: 1.1356 - val_accuracy: 0.5234\n",
            "Epoch 17/100\n",
            "8/8 [==============================] - 22s 3s/step - loss: 0.4137 - accuracy: 0.8145 - val_loss: 0.3801 - val_accuracy: 0.8203\n",
            "Epoch 18/100\n",
            "8/8 [==============================] - 21s 3s/step - loss: 0.5465 - accuracy: 0.7182 - val_loss: 1.0176 - val_accuracy: 0.5703\n",
            "Epoch 19/100\n",
            "8/8 [==============================] - 21s 3s/step - loss: 0.4137 - accuracy: 0.8206 - val_loss: 1.2646 - val_accuracy: 0.5234\n",
            "Epoch 20/100\n",
            "8/8 [==============================] - 21s 3s/step - loss: 0.4236 - accuracy: 0.8056 - val_loss: 1.0282 - val_accuracy: 0.5859\n",
            "Epoch 21/100\n",
            "8/8 [==============================] - 21s 3s/step - loss: 0.3810 - accuracy: 0.8419 - val_loss: 0.6547 - val_accuracy: 0.6758\n",
            "Epoch 22/100\n",
            "8/8 [==============================] - 23s 3s/step - loss: 0.3927 - accuracy: 0.8393 - val_loss: 0.9512 - val_accuracy: 0.6172\n",
            "Epoch 23/100\n",
            "8/8 [==============================] - 21s 3s/step - loss: 0.4074 - accuracy: 0.8081 - val_loss: 0.8113 - val_accuracy: 0.6562\n",
            "Epoch 24/100\n",
            "8/8 [==============================] - 21s 3s/step - loss: 0.4348 - accuracy: 0.7694 - val_loss: 0.9233 - val_accuracy: 0.6328\n",
            "Epoch 25/100\n",
            "8/8 [==============================] - 21s 3s/step - loss: 0.3584 - accuracy: 0.8406 - val_loss: 1.0931 - val_accuracy: 0.5859\n",
            "Epoch 26/100\n",
            "8/8 [==============================] - 21s 3s/step - loss: 0.4790 - accuracy: 0.7576 - val_loss: 1.2347 - val_accuracy: 0.5664\n",
            "Epoch 27/100\n",
            "8/8 [==============================] - 21s 3s/step - loss: 0.3836 - accuracy: 0.8288 - val_loss: 0.9500 - val_accuracy: 0.6406\n",
            "Epoch 28/100\n",
            "8/8 [==============================] - 21s 3s/step - loss: 0.3790 - accuracy: 0.8024 - val_loss: 1.0629 - val_accuracy: 0.6250\n",
            "Epoch 29/100\n",
            "8/8 [==============================] - 21s 3s/step - loss: 0.3717 - accuracy: 0.8326 - val_loss: 0.6948 - val_accuracy: 0.6953\n",
            "Epoch 30/100\n",
            "8/8 [==============================] - 21s 3s/step - loss: 0.4230 - accuracy: 0.8036 - val_loss: 0.7759 - val_accuracy: 0.6875\n",
            "Epoch 31/100\n",
            "8/8 [==============================] - 21s 3s/step - loss: 0.3126 - accuracy: 0.8674 - val_loss: 1.3099 - val_accuracy: 0.5664\n",
            "Epoch 32/100\n",
            "8/8 [==============================] - 21s 3s/step - loss: 0.3745 - accuracy: 0.8474 - val_loss: 0.3931 - val_accuracy: 0.8438\n",
            "Epoch 33/100\n",
            "8/8 [==============================] - 21s 3s/step - loss: 0.3394 - accuracy: 0.8531 - val_loss: 1.0348 - val_accuracy: 0.6367\n",
            "Epoch 34/100\n",
            "8/8 [==============================] - 21s 3s/step - loss: 0.3308 - accuracy: 0.8413 - val_loss: 2.5075 - val_accuracy: 0.5000\n",
            "Epoch 35/100\n",
            "8/8 [==============================] - 21s 3s/step - loss: 0.5192 - accuracy: 0.7731 - val_loss: 1.0541 - val_accuracy: 0.6250\n",
            "Epoch 36/100\n",
            "8/8 [==============================] - 21s 3s/step - loss: 0.3389 - accuracy: 0.8583 - val_loss: 1.0796 - val_accuracy: 0.6367\n",
            "Epoch 37/100\n",
            "8/8 [==============================] - 21s 3s/step - loss: 0.3340 - accuracy: 0.8516 - val_loss: 0.8207 - val_accuracy: 0.6797\n",
            "Epoch 38/100\n",
            "8/8 [==============================] - 21s 3s/step - loss: 0.3381 - accuracy: 0.8455 - val_loss: 2.6420 - val_accuracy: 0.5195\n",
            "Epoch 39/100\n",
            "8/8 [==============================] - 21s 3s/step - loss: 0.4058 - accuracy: 0.8468 - val_loss: 1.1713 - val_accuracy: 0.6211\n",
            "Epoch 40/100\n",
            "8/8 [==============================] - 21s 3s/step - loss: 0.3516 - accuracy: 0.8450 - val_loss: 1.2795 - val_accuracy: 0.5859\n",
            "Epoch 41/100\n",
            "8/8 [==============================] - 21s 3s/step - loss: 0.2821 - accuracy: 0.8960 - val_loss: 1.1876 - val_accuracy: 0.6172\n",
            "Epoch 42/100\n",
            "8/8 [==============================] - 21s 3s/step - loss: 0.2934 - accuracy: 0.8750 - val_loss: 1.7330 - val_accuracy: 0.5547\n",
            "Epoch 43/100\n",
            "8/8 [==============================] - 22s 3s/step - loss: 0.3459 - accuracy: 0.8529 - val_loss: 0.8468 - val_accuracy: 0.6836\n",
            "Epoch 44/100\n",
            "8/8 [==============================] - 22s 3s/step - loss: 0.3283 - accuracy: 0.8559 - val_loss: 1.0718 - val_accuracy: 0.6328\n",
            "Epoch 45/100\n",
            "8/8 [==============================] - 22s 3s/step - loss: 0.3222 - accuracy: 0.8521 - val_loss: 1.6185 - val_accuracy: 0.5508\n",
            "Epoch 46/100\n",
            "8/8 [==============================] - 22s 3s/step - loss: 0.3110 - accuracy: 0.8807 - val_loss: 2.3386 - val_accuracy: 0.5469\n",
            "Epoch 47/100\n",
            "8/8 [==============================] - 21s 3s/step - loss: 0.3118 - accuracy: 0.8655 - val_loss: 1.9959 - val_accuracy: 0.5234\n",
            "Epoch 48/100\n",
            "8/8 [==============================] - 21s 3s/step - loss: 0.3526 - accuracy: 0.8267 - val_loss: 1.0013 - val_accuracy: 0.6602\n",
            "Epoch 49/100\n",
            "8/8 [==============================] - 21s 3s/step - loss: 0.2645 - accuracy: 0.8937 - val_loss: 1.3170 - val_accuracy: 0.6133\n",
            "Epoch 50/100\n",
            "8/8 [==============================] - 22s 3s/step - loss: 0.4581 - accuracy: 0.8374 - val_loss: 1.4171 - val_accuracy: 0.5938\n",
            "Epoch 51/100\n",
            "8/8 [==============================] - 22s 3s/step - loss: 0.3256 - accuracy: 0.8704 - val_loss: 1.0149 - val_accuracy: 0.6289\n",
            "Epoch 52/100\n",
            "8/8 [==============================] - 21s 3s/step - loss: 0.2811 - accuracy: 0.8856 - val_loss: 1.4322 - val_accuracy: 0.5938\n",
            "Epoch 53/100\n",
            "8/8 [==============================] - 21s 3s/step - loss: 0.2531 - accuracy: 0.8964 - val_loss: 1.2048 - val_accuracy: 0.6367\n",
            "Epoch 54/100\n",
            "8/8 [==============================] - 21s 3s/step - loss: 0.2495 - accuracy: 0.9024 - val_loss: 1.1990 - val_accuracy: 0.6523\n",
            "Epoch 55/100\n",
            "8/8 [==============================] - 21s 3s/step - loss: 0.2258 - accuracy: 0.9007 - val_loss: 1.3683 - val_accuracy: 0.6172\n",
            "Epoch 56/100\n",
            "8/8 [==============================] - 22s 3s/step - loss: 0.2612 - accuracy: 0.8808 - val_loss: 0.8967 - val_accuracy: 0.6953\n",
            "Epoch 57/100\n",
            "8/8 [==============================] - 22s 3s/step - loss: 0.2446 - accuracy: 0.8859 - val_loss: 1.7367 - val_accuracy: 0.6016\n",
            "Epoch 58/100\n",
            "8/8 [==============================] - 22s 3s/step - loss: 0.4132 - accuracy: 0.8476 - val_loss: 1.2065 - val_accuracy: 0.6289\n",
            "Epoch 59/100\n",
            "8/8 [==============================] - 21s 3s/step - loss: 0.2975 - accuracy: 0.8713 - val_loss: 1.2724 - val_accuracy: 0.6250\n",
            "Epoch 60/100\n",
            "8/8 [==============================] - 21s 3s/step - loss: 0.3239 - accuracy: 0.8694 - val_loss: 1.5559 - val_accuracy: 0.6133\n",
            "Epoch 61/100\n",
            "8/8 [==============================] - 21s 3s/step - loss: 0.2654 - accuracy: 0.8899 - val_loss: 1.2636 - val_accuracy: 0.6250\n",
            "Epoch 62/100\n",
            "8/8 [==============================] - 22s 3s/step - loss: 0.2234 - accuracy: 0.9176 - val_loss: 0.6659 - val_accuracy: 0.7539\n",
            "Epoch 63/100\n",
            "8/8 [==============================] - 21s 3s/step - loss: 0.2476 - accuracy: 0.8888 - val_loss: 1.1259 - val_accuracy: 0.6641\n",
            "Epoch 64/100\n",
            "8/8 [==============================] - 22s 3s/step - loss: 0.2467 - accuracy: 0.8879 - val_loss: 1.7598 - val_accuracy: 0.5820\n",
            "Epoch 65/100\n",
            "8/8 [==============================] - 22s 3s/step - loss: 0.2435 - accuracy: 0.9104 - val_loss: 1.7626 - val_accuracy: 0.5977\n",
            "Epoch 66/100\n",
            "8/8 [==============================] - 24s 3s/step - loss: 0.2150 - accuracy: 0.9236 - val_loss: 0.7468 - val_accuracy: 0.7539\n",
            "Epoch 67/100\n",
            "8/8 [==============================] - 21s 3s/step - loss: 0.2072 - accuracy: 0.9240 - val_loss: 1.4275 - val_accuracy: 0.6250\n",
            "Epoch 68/100\n",
            "8/8 [==============================] - 21s 3s/step - loss: 0.2787 - accuracy: 0.8903 - val_loss: 1.1203 - val_accuracy: 0.6367\n",
            "Epoch 69/100\n",
            "8/8 [==============================] - 21s 3s/step - loss: 0.2387 - accuracy: 0.9146 - val_loss: 1.4350 - val_accuracy: 0.6094\n",
            "Epoch 70/100\n",
            "8/8 [==============================] - 22s 3s/step - loss: 0.3069 - accuracy: 0.8612 - val_loss: 1.4053 - val_accuracy: 0.6133\n",
            "Epoch 71/100\n",
            "8/8 [==============================] - 21s 3s/step - loss: 0.2254 - accuracy: 0.9104 - val_loss: 1.3995 - val_accuracy: 0.6250\n",
            "Epoch 72/100\n",
            "8/8 [==============================] - 21s 3s/step - loss: 0.2223 - accuracy: 0.9070 - val_loss: 1.3662 - val_accuracy: 0.6211\n",
            "Epoch 73/100\n",
            "8/8 [==============================] - 21s 3s/step - loss: 0.1797 - accuracy: 0.9204 - val_loss: 1.9076 - val_accuracy: 0.5977\n",
            "Epoch 74/100\n",
            "8/8 [==============================] - 21s 3s/step - loss: 0.1782 - accuracy: 0.9316 - val_loss: 2.1492 - val_accuracy: 0.5781\n",
            "Epoch 75/100\n",
            "8/8 [==============================] - 21s 3s/step - loss: 0.2958 - accuracy: 0.8834 - val_loss: 1.9447 - val_accuracy: 0.5977\n",
            "Epoch 76/100\n",
            "8/8 [==============================] - 21s 3s/step - loss: 0.2745 - accuracy: 0.8880 - val_loss: 0.9775 - val_accuracy: 0.6875\n",
            "Epoch 77/100\n",
            "8/8 [==============================] - 23s 3s/step - loss: 0.1755 - accuracy: 0.9410 - val_loss: 2.0013 - val_accuracy: 0.6016\n",
            "Epoch 78/100\n",
            "8/8 [==============================] - 21s 3s/step - loss: 0.2473 - accuracy: 0.9078 - val_loss: 1.3812 - val_accuracy: 0.6367\n",
            "Epoch 79/100\n",
            "8/8 [==============================] - 21s 3s/step - loss: 0.1973 - accuracy: 0.9320 - val_loss: 2.2410 - val_accuracy: 0.5859\n",
            "Epoch 80/100\n",
            "8/8 [==============================] - 21s 3s/step - loss: 0.1881 - accuracy: 0.9302 - val_loss: 2.2730 - val_accuracy: 0.5898\n",
            "Epoch 81/100\n",
            "8/8 [==============================] - 21s 3s/step - loss: 0.1994 - accuracy: 0.9160 - val_loss: 3.3618 - val_accuracy: 0.5078\n",
            "Epoch 82/100\n",
            "8/8 [==============================] - 21s 3s/step - loss: 0.3326 - accuracy: 0.8543 - val_loss: 1.8219 - val_accuracy: 0.5938\n",
            "Epoch 83/100\n",
            "8/8 [==============================] - 24s 3s/step - loss: 0.2046 - accuracy: 0.9190 - val_loss: 1.6003 - val_accuracy: 0.6250\n",
            "Epoch 84/100\n",
            "8/8 [==============================] - 21s 3s/step - loss: 0.1929 - accuracy: 0.9206 - val_loss: 2.2266 - val_accuracy: 0.5625\n",
            "Epoch 85/100\n",
            "8/8 [==============================] - 21s 3s/step - loss: 0.2193 - accuracy: 0.9256 - val_loss: 1.6708 - val_accuracy: 0.5977\n",
            "Epoch 86/100\n",
            "8/8 [==============================] - 21s 3s/step - loss: 0.1969 - accuracy: 0.9151 - val_loss: 2.4441 - val_accuracy: 0.5586\n",
            "Epoch 87/100\n",
            "8/8 [==============================] - 21s 3s/step - loss: 0.2588 - accuracy: 0.8696 - val_loss: 1.8738 - val_accuracy: 0.6016\n",
            "Epoch 88/100\n",
            "8/8 [==============================] - 21s 3s/step - loss: 0.1934 - accuracy: 0.9201 - val_loss: 1.8775 - val_accuracy: 0.6016\n",
            "Epoch 89/100\n",
            "8/8 [==============================] - 21s 3s/step - loss: 0.3854 - accuracy: 0.8202 - val_loss: 1.5523 - val_accuracy: 0.6289\n",
            "Epoch 90/100\n",
            "8/8 [==============================] - 23s 3s/step - loss: 0.1676 - accuracy: 0.9430 - val_loss: 0.7993 - val_accuracy: 0.7578\n",
            "Epoch 91/100\n",
            "8/8 [==============================] - 21s 3s/step - loss: 0.1539 - accuracy: 0.9447 - val_loss: 1.8522 - val_accuracy: 0.6016\n",
            "Epoch 92/100\n",
            "8/8 [==============================] - 21s 3s/step - loss: 0.2044 - accuracy: 0.9089 - val_loss: 2.5030 - val_accuracy: 0.5703\n",
            "Epoch 93/100\n",
            "8/8 [==============================] - 21s 3s/step - loss: 0.1851 - accuracy: 0.9241 - val_loss: 1.5933 - val_accuracy: 0.6445\n",
            "Epoch 94/100\n",
            "8/8 [==============================] - 21s 3s/step - loss: 0.2759 - accuracy: 0.9009 - val_loss: 1.9633 - val_accuracy: 0.6055\n",
            "Epoch 95/100\n",
            "8/8 [==============================] - 21s 3s/step - loss: 0.1537 - accuracy: 0.9391 - val_loss: 1.6233 - val_accuracy: 0.5938\n",
            "Epoch 96/100\n",
            "8/8 [==============================] - 24s 3s/step - loss: 0.1748 - accuracy: 0.9376 - val_loss: 2.1873 - val_accuracy: 0.5977\n",
            "Epoch 97/100\n",
            "8/8 [==============================] - 21s 3s/step - loss: 0.2205 - accuracy: 0.9218 - val_loss: 1.8386 - val_accuracy: 0.6172\n",
            "Epoch 98/100\n",
            "8/8 [==============================] - 21s 3s/step - loss: 0.1453 - accuracy: 0.9483 - val_loss: 2.2069 - val_accuracy: 0.5977\n",
            "Epoch 99/100\n",
            "8/8 [==============================] - 21s 3s/step - loss: 0.1985 - accuracy: 0.9120 - val_loss: 1.8683 - val_accuracy: 0.6133\n",
            "Epoch 100/100\n",
            "8/8 [==============================] - 21s 3s/step - loss: 0.1883 - accuracy: 0.9209 - val_loss: 1.5645 - val_accuracy: 0.6484\n"
          ],
          "name": "stdout"
        }
      ]
    },
    {
      "cell_type": "code",
      "metadata": {
        "id": "7zNPRWOVJdOH"
      },
      "source": [
        "import matplotlib.pyplot as plt\n",
        "acc = history.history['accuracy']\n",
        "val_acc = history.history['val_accuracy']\n",
        "loss = history.history['loss']\n",
        "val_loss = history.history['val_loss']\n",
        "\n",
        "epochs = range(len(acc))\n",
        "\n",
        "plt.plot(epochs, acc, 'r', label='Training accuracy')\n",
        "plt.plot(epochs, val_acc, 'b', label='Validation accuracy')\n",
        "plt.title('Training and validation accuracy')\n",
        "\n",
        "plt.figure()\n",
        "\n",
        "plt.plot(epochs, loss, 'r', label='Training Loss')\n",
        "plt.plot(epochs, val_loss, 'b', label='Validation Loss')\n",
        "plt.title('Training and validation loss')\n",
        "plt.legend()\n",
        "\n",
        "plt.show()"
      ],
      "execution_count": null,
      "outputs": []
    }
  ]
}